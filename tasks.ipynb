{
 "cells": [
  {
   "cell_type": "markdown",
   "metadata": {},
   "source": [
    "# Tasks for laboratory assignment 1"
   ]
  },
  {
   "cell_type": "code",
   "execution_count": 113,
   "metadata": {},
   "outputs": [],
   "source": [
    "# imports section\n",
    "\n",
    "import requests\n",
    "from bs4 import BeautifulSoup\n",
    "import json\n",
    "import pandas as pd\n",
    "from datetime import datetime\n",
    "import csv\n",
    "import numpy as np\n",
    "import matplotlib.pyplot as plt"
   ]
  },
  {
   "cell_type": "markdown",
   "metadata": {},
   "source": [
    "## Extract webpage data given the url\n",
    "\n",
    "Create a Python script that performs basic web scraping on a page to extract all the information into text and returns it as a string.\n",
    "String should not contain tags."
   ]
  },
  {
   "cell_type": "code",
   "execution_count": 114,
   "metadata": {},
   "outputs": [
    {
     "name": "stdout",
     "output_type": "stream",
     "text": [
      "Головна - Факультет математики та інформатикиПерейти до основного вмісту[email protected]58012, Україна, м. Чернівці, вул. Університетська, 28НовиниВсіЗагальніОголошенняПодіїСтудентуВикладачуВітанняДіяльністьНауковаНавчально-методичнаМіжнароднаОрганізацій\n",
      "Web scraping - WikipediaJump to contentMain menuMain menumove to sidebarhideNavigationMain pageContentsCurrent eventsRandom articleAbout WikipediaContact usContributeHelpLearn to editCommunity portalRecent changesUpload fileSearchSearchAppearanceDonateCre\n"
     ]
    }
   ],
   "source": [
    "def parse_web_page(url):\n",
    "    \"\"\"\n",
    "    Fetch the content of the given web page and return it as text without HTML tags.\n",
    "\n",
    "    Args:\n",
    "        url (str): The URL of the web page to fetch.\n",
    "\n",
    "    Returns:\n",
    "        str: The content of the page as a string without HTML tags.\n",
    "    \"\"\"\n",
    "    response = requests.get(url)\n",
    "    response.raise_for_status()\n",
    "    soup = BeautifulSoup(response.text, 'html.parser')\n",
    "\n",
    "    return soup.get_text(strip=True)\n",
    "\n",
    "print(parse_web_page('https://fmi.chnu.edu.ua/')[:255])\n",
    "print(parse_web_page('https://en.wikipedia.org/wiki/Web_scraping')[:255])"
   ]
  },
  {
   "cell_type": "markdown",
   "metadata": {},
   "source": [
    "## Get data from the API\n",
    "\n",
    "Create a python script that performs basic request to API endpoint and saves that data to a JSON file `result.json`."
   ]
  },
  {
   "cell_type": "code",
   "execution_count": 115,
   "metadata": {},
   "outputs": [],
   "source": [
    "def parse_api(api_url):\n",
    "    \"\"\"\n",
    "    Fetch the data of the given API endpoint and save it to result.json.\n",
    "\n",
    "    Args:\n",
    "        api_url (str): The URL of the API endpoint.\n",
    "\n",
    "    Returns:\n",
    "        None.\n",
    "\n",
    "    Raises:\n",
    "        HTTPError: If the HTTP request returned an unsuccessful status code.\n",
    "    \"\"\"\n",
    "    response = requests.get(api_url)\n",
    "    response.raise_for_status()\n",
    "    data = response.json()\n",
    "    with open('result.json', 'w') as f:\n",
    "        json.dump(data, f, indent=4)\n",
    "\n",
    "parse_api('https://api.github.com/')"
   ]
  },
  {
   "cell_type": "markdown",
   "metadata": {},
   "source": [
    "## Parse the json file\n",
    "\n",
    "Parse the `weather.json` file and return weather data for a specific date, that is given as a parameter. Return the data as an array."
   ]
  },
  {
   "cell_type": "code",
   "execution_count": 116,
   "metadata": {},
   "outputs": [
    {
     "name": "stdout",
     "output_type": "stream",
     "text": [
      "[{'date': '2024-08-19', 'max_temperature': 30.0, 'min_temperature': 21.0, 'precipitation': 5.0, 'wind_speed': 10.0, 'humidity': 70, 'weather_description': 'Light rain'}]\n"
     ]
    }
   ],
   "source": [
    "def parse_json(date):\n",
    "    \"\"\"\n",
    "    Parse the data from weather.json file and return weather data for a given date.\n",
    "\n",
    "    Args:\n",
    "        date (str): The date for which we look up the weather.\n",
    "\n",
    "    Returns:\n",
    "        list: a list of weather data for a given date.\n",
    "    \"\"\"\n",
    "    with open('resources/weather.json', 'r') as f:\n",
    "        data = json.load(f)\n",
    "    \n",
    "    result = [entry for entry in data['daily'] if entry['date'] == date]\n",
    "    return result\n",
    "    \n",
    "target_date = '2024-08-19'\n",
    "print(parse_json(target_date))"
   ]
  },
  {
   "cell_type": "markdown",
   "metadata": {},
   "source": [
    "## Parse the csv file\n",
    "\n",
    "Parse the `weather.csv` file and return weather data for a specific date, that is given as a parameter. Return the data as an array."
   ]
  },
  {
   "cell_type": "code",
   "execution_count": 117,
   "metadata": {},
   "outputs": [
    {
     "name": "stdout",
     "output_type": "stream",
     "text": [
      "[{'CET': '1997-5-22', 'Max TemperatureC': '25', 'Mean TemperatureC': '18', 'Min TemperatureC': '10', 'Dew PointC': '11', 'MeanDew PointC': '8', 'Min DewpointC': '6', 'Max Humidity': '88', ' Mean Humidity': '54', ' Min Humidity': '34', ' Max Sea Level PressurehPa': '1017', ' Mean Sea Level PressurehPa': '1015', ' Min Sea Level PressurehPa': '1012', ' Max VisibilityKm': '10', ' Mean VisibilityKm': '10', ' Min VisibilitykM': '10', ' Max Wind SpeedKm/h': '11', ' Mean Wind SpeedKm/h': '3', ' Max Gust SpeedKm/h': '', 'Precipitationmm': '0.00', ' CloudCover': '3', ' Events': '', 'WindDirDegrees': '277'}]\n"
     ]
    }
   ],
   "source": [
    "def parse_csv(date):\n",
    "    \"\"\"\n",
    "    Parse the data from weather.csv file and return weather data for a given date.\n",
    "\n",
    "    Args:\n",
    "        date (str): The date for which we look up the weather.\n",
    "\n",
    "    Returns:\n",
    "        list: a list of weather data for a given date.\n",
    "    \"\"\"\n",
    "    with open('resources/weather.csv', 'r') as f:\n",
    "        reader = csv.DictReader(f)\n",
    "        result = [row for row in reader if row['CET'].strip() == date.strip()]\n",
    "    \n",
    "    return result\n",
    "\n",
    "    \n",
    "target_date = '1997-5-22'\n",
    "print(parse_csv(target_date))"
   ]
  },
  {
   "cell_type": "markdown",
   "metadata": {},
   "source": [
    "## Visualize data\n",
    "\n",
    "Visualize the `weather.csv` data using matplotlib. Choose your own approach to data visualization. Save the results (as `.png`, `.webp` files etc., your choise) in this repository. "
   ]
  },
  {
   "cell_type": "code",
   "execution_count": null,
   "metadata": {},
   "outputs": [
    {
     "name": "stdout",
     "output_type": "stream",
     "text": [
      "'CET'\n",
      "'Max TemperatureC'\n",
      "'Mean TemperatureC'\n",
      "'Min TemperatureC'\n",
      "'Dew PointC'\n",
      "'MeanDew PointC'\n",
      "'Min DewpointC'\n",
      "'Max Humidity'\n",
      "'Mean Humidity'\n",
      "'Min Humidity'\n",
      "'Max Sea Level PressurehPa'\n",
      "'Mean Sea Level PressurehPa'\n",
      "'Min Sea Level PressurehPa'\n",
      "'Max VisibilityKm'\n",
      "'Mean VisibilityKm'\n",
      "'Min VisibilitykM'\n",
      "'Max Wind SpeedKm/h'\n",
      "'Mean Wind SpeedKm/h'\n",
      "'Max Gust SpeedKm/h'\n",
      "'Precipitationmm'\n",
      "'CloudCover'\n",
      "'Events'\n",
      "'WindDirDegrees'\n",
      "'CET'\n",
      "'Max TemperatureC'\n",
      "'Mean TemperatureC'\n",
      "'Min TemperatureC'\n",
      "'Dew PointC'\n",
      "'MeanDew PointC'\n",
      "'Min DewpointC'\n",
      "'Max Humidity'\n",
      "'Mean Humidity'\n",
      "'Min Humidity'\n",
      "'Max Sea Level PressurehPa'\n",
      "'Mean Sea Level PressurehPa'\n",
      "'Min Sea Level PressurehPa'\n",
      "'Max VisibilityKm'\n",
      "'Mean VisibilityKm'\n",
      "'Min VisibilitykM'\n",
      "'Max Wind SpeedKm/h'\n",
      "'Mean Wind SpeedKm/h'\n",
      "'Max Gust SpeedKm/h'\n",
      "'Precipitationmm'\n",
      "'CloudCover'\n",
      "'Events'\n",
      "'WindDirDegrees'\n"
     ]
    },
    {
     "data": {
      "text/plain": [
       "<Figure size 1000x500 with 0 Axes>"
      ]
     },
     "metadata": {},
     "output_type": "display_data"
    },
    {
     "data": {
      "text/plain": [
       "<Figure size 1000x500 with 0 Axes>"
      ]
     },
     "metadata": {},
     "output_type": "display_data"
    },
    {
     "data": {
      "text/plain": [
       "<Figure size 1000x500 with 0 Axes>"
      ]
     },
     "metadata": {},
     "output_type": "display_data"
    },
    {
     "data": {
      "text/plain": [
       "<Figure size 1000x500 with 0 Axes>"
      ]
     },
     "metadata": {},
     "output_type": "display_data"
    }
   ],
   "source": [
    "def visualize_data():\n",
    "    \"\"\"\n",
    "    Parse the data from weather.csv file and visualize it using Matplotlib. Use more then one visualization. \n",
    "    Save the results in the repository.\n",
    "\n",
    "    Args:\n",
    "        None: None.\n",
    "\n",
    "    Returns:\n",
    "        None: None.\n",
    "    \"\"\"\n",
    "    dates = []\n",
    "    max_temps = []\n",
    "    min_temps = []\n",
    "    wind_speeds = []\n",
    "\n",
    "    with open('resources/weather.csv', 'r') as f:\n",
    "        reader = csv.DictReader(f)\n",
    "\n",
    "        fieldnames = [field.strip() for field in reader.fieldnames]\n",
    "        reader.fieldnames = fieldnames  # Оновлюємо стовпці\n",
    "\n",
    "        for column in reader.fieldnames:\n",
    "            print(f\"'{column}'\")\n",
    "\n",
    "        for row in reader:\n",
    "            date = row['CET']\n",
    "            max_temp = row['Max TemperatureC']\n",
    "            min_temp = row['Min TemperatureC']\n",
    "            wind_speed = row['Max Wind SpeedKm/h'].strip() if 'Max Wind SpeedKm/h' in row else None\n",
    "\n",
    "            if max_temp and min_temp and wind_speed:\n",
    "                dates.append(date)\n",
    "                max_temps.append(float(max_temp))\n",
    "                min_temps.append(float(min_temp))\n",
    "\n",
    "                if wind_speed:\n",
    "                    wind_speeds.append(float(wind_speed))\n",
    "                else:\n",
    "                    wind_speeds.append(0)  \n",
    "\n",
    "    # 1. Графік максимальних та мінімальних температур\n",
    "    plt.figure(figsize=(10, 5))\n",
    "    plt.plot(dates, max_temps, label='Max Temperature (°C)', color='red')\n",
    "    plt.plot(dates, min_temps, label='Min Temperature (°C)', color='blue')\n",
    "    plt.xlabel('Date')\n",
    "    plt.ylabel('Temperature (°C)')\n",
    "    plt.title('Max and Min Temperatures')\n",
    "    plt.xticks(rotation=45)\n",
    "    plt.legend()\n",
    "    plt.tight_layout()\n",
    "    plt.savefig('max_min_temperatures.png')\n",
    "    plt.savefig('max_min_temperatures.webp')\n",
    "    plt.clf()  \n",
    "\n",
    "    # 2. Графік швидкості вітру\n",
    "    plt.figure(figsize=(10, 5))\n",
    "    plt.plot(dates, wind_speeds, label='Max Wind Speed (km/h)', color='green')\n",
    "    plt.xlabel('Date')\n",
    "    plt.ylabel('Wind Speed (km/h)')\n",
    "    plt.title('Max Wind Speed')\n",
    "    plt.xticks(rotation=45)\n",
    "    plt.legend()\n",
    "    plt.tight_layout()\n",
    "    plt.savefig('wind_speed.png')\n",
    "    plt.savefig('wind_speed.webp')\n",
    "    plt.clf()\n",
    "\n",
    "visualize_data()\n",
    "\n",
    "visualize_data()"
   ]
  }
 ],
 "metadata": {
  "kernelspec": {
   "display_name": "Python 3",
   "language": "python",
   "name": "python3"
  },
  "language_info": {
   "codemirror_mode": {
    "name": "ipython",
    "version": 3
   },
   "file_extension": ".py",
   "mimetype": "text/x-python",
   "name": "python",
   "nbconvert_exporter": "python",
   "pygments_lexer": "ipython3",
   "version": "3.13.0"
  }
 },
 "nbformat": 4,
 "nbformat_minor": 2
}
